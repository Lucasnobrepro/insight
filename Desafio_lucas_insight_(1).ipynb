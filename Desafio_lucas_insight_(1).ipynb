{
  "nbformat": 4,
  "nbformat_minor": 0,
  "metadata": {
    "colab": {
      "name": "Desafio_lucas_insight (1).ipynb",
      "provenance": [],
      "collapsed_sections": []
    },
    "kernelspec": {
      "name": "python3",
      "display_name": "Python 3"
    }
  },
  "cells": [
    {
      "cell_type": "code",
      "metadata": {
        "id": "_D6EY4FlxGyW",
        "colab_type": "code",
        "outputId": "3061b178-3790-4cbe-8b84-4af6e141bcf8",
        "colab": {
          "base_uri": "https://localhost:8080/",
          "height": 122
        }
      },
      "source": [
        "from google.colab import drive\n",
        "drive.mount('/content/drive')"
      ],
      "execution_count": 1,
      "outputs": [
        {
          "output_type": "stream",
          "text": [
            "Go to this URL in a browser: https://accounts.google.com/o/oauth2/auth?client_id=947318989803-6bn6qk8qdgf4n4g3pfee6491hc0brc4i.apps.googleusercontent.com&redirect_uri=urn%3aietf%3awg%3aoauth%3a2.0%3aoob&response_type=code&scope=email%20https%3a%2f%2fwww.googleapis.com%2fauth%2fdocs.test%20https%3a%2f%2fwww.googleapis.com%2fauth%2fdrive%20https%3a%2f%2fwww.googleapis.com%2fauth%2fdrive.photos.readonly%20https%3a%2f%2fwww.googleapis.com%2fauth%2fpeopleapi.readonly\n",
            "\n",
            "Enter your authorization code:\n",
            "··········\n",
            "Mounted at /content/drive\n"
          ],
          "name": "stdout"
        }
      ]
    },
    {
      "cell_type": "code",
      "metadata": {
        "id": "Z15KusjTxTOl",
        "colab_type": "code",
        "outputId": "ece62b27-c490-4c35-caf3-a5ebe395f5f6",
        "colab": {
          "base_uri": "https://localhost:8080/",
          "height": 63
        }
      },
      "source": [
        "import matplotlib.pyplot as plt # para gráficos\n",
        "\n",
        "import pandas as pd # para manipulação de dados\n",
        "import numpy as np # para manipulação de matrizes\n",
        "\n",
        "import tensorflow as tf # para Deep Learning\n",
        "from tensorflow.contrib.rnn import BasicRNNCell # para RNNs"
      ],
      "execution_count": 3,
      "outputs": [
        {
          "output_type": "display_data",
          "data": {
            "text/html": [
              "<p style=\"color: red;\">\n",
              "The default version of TensorFlow in Colab will soon switch to TensorFlow 2.x.<br>\n",
              "We recommend you <a href=\"https://www.tensorflow.org/guide/migrate\" target=\"_blank\">upgrade</a> now \n",
              "or ensure your notebook will continue to use TensorFlow 1.x via the <code>%tensorflow_version 1.x</code> magic:\n",
              "<a href=\"https://colab.research.google.com/notebooks/tensorflow_version.ipynb\" target=\"_blank\">more info</a>.</p>\n"
            ],
            "text/plain": [
              "<IPython.core.display.HTML object>"
            ]
          },
          "metadata": {
            "tags": []
          }
        }
      ]
    },
    {
      "cell_type": "code",
      "metadata": {
        "id": "olx4Uim2xcjO",
        "colab_type": "code",
        "colab": {}
      },
      "source": [
        "# lendo banco de dados\n",
        "df_janeiro   = pd.read_csv('/content/drive/My Drive/Dados/DadosBO_2019_1(ROUBO DE VEÍCULOS).csv')\n",
        "df_fevereiro = pd.read_csv('/content/drive/My Drive/Dados/DadosBO_2019_2(ROUBO DE VEÍCULOS).csv')\n",
        "df_marco     = pd.read_csv('/content/drive/My Drive/Dados/DadosBO_2019_3(ROUBO DE VEÍCULOS).csv')\n",
        "df_abril     = pd.read_csv('/content/drive/My Drive/Dados/DadosBO_2019_4(ROUBO DE VEÍCULOS).csv')\n",
        "df_maio      = pd.read_csv('/content/drive/My Drive/Dados/DadosBO_2019_5(ROUBO DE VEÍCULOS).csv')\n",
        "df_junho     = pd.read_csv('/content/drive/My Drive/Dados/DadosBO_2019_6(ROUBO DE VEÍCULOS).csv')\n",
        "df_julho     = pd.read_csv('/content/drive/My Drive/Dados/DadosBO_2019_7(ROUBO DE VEÍCULOS).csv')\n",
        "df_agosto    = pd.read_csv('/content/drive/My Drive/Dados/DadosBO_2019_8(ROUBO DE VEÍCULOS).csv')\n",
        "df_setembro  = pd.read_csv('/content/drive/My Drive/Dados/DadosBO_2019_9(ROUBO DE VEÍCULOS).csv')\n",
        "df_outubro   = pd.read_csv('/content/drive/My Drive/Dados/DadosBO_2019_10(ROUBO DE VEÍCULOS).csv')\n",
        "df_novembro  = pd.read_csv('/content/drive/My Drive/Dados/DadosBO_2019_11(ROUBO DE VEÍCULOS).csv')\n",
        "df_dezembro  = pd.read_csv('/content/drive/My Drive/Dados/DadosBO_2019_12(ROUBO DE VEÍCULOS).csv')"
      ],
      "execution_count": 0,
      "outputs": []
    },
    {
      "cell_type": "code",
      "metadata": {
        "id": "AUjk02ZwHqW2",
        "colab_type": "code",
        "colab": {}
      },
      "source": [
        "# concatenando banco de dados shape total de (120554, 57)\n",
        "data = pd.concat([df_janeiro, df_fevereiro, df_marco,\n",
        "                df_abril,   df_maio,      df_junho,\n",
        "                df_julho,   df_agosto,    df_setembro,\n",
        "                df_outubro, df_novembro,  df_dezembro])\n",
        "\n",
        "def removeDuplicados(df):\n",
        "    df.drop_duplicates(inplace=True)\n",
        "    return df\n",
        "\n",
        "data = removeDuplicados(data)"
      ],
      "execution_count": 0,
      "outputs": []
    },
    {
      "cell_type": "code",
      "metadata": {
        "id": "s86LO93Kx0u-",
        "colab_type": "code",
        "outputId": "b4317900-e763-47e7-d84e-e59558a7e0b0",
        "colab": {
          "base_uri": "https://localhost:8080/",
          "height": 479
        }
      },
      "source": [
        "data.head(5)"
      ],
      "execution_count": 7,
      "outputs": [
        {
          "output_type": "execute_result",
          "data": {
            "text/html": [
              "<div>\n",
              "<style scoped>\n",
              "    .dataframe tbody tr th:only-of-type {\n",
              "        vertical-align: middle;\n",
              "    }\n",
              "\n",
              "    .dataframe tbody tr th {\n",
              "        vertical-align: top;\n",
              "    }\n",
              "\n",
              "    .dataframe thead th {\n",
              "        text-align: right;\n",
              "    }\n",
              "</style>\n",
              "<table border=\"1\" class=\"dataframe\">\n",
              "  <thead>\n",
              "    <tr style=\"text-align: right;\">\n",
              "      <th></th>\n",
              "      <th>ANO_BO</th>\n",
              "      <th>NUM_BO</th>\n",
              "      <th>NUMERO_BOLETIM</th>\n",
              "      <th>BO_INICIADO</th>\n",
              "      <th>BO_EMITIDO</th>\n",
              "      <th>DATAOCORRENCIA</th>\n",
              "      <th>HORAOCORRENCIA</th>\n",
              "      <th>PERIDOOCORRENCIA</th>\n",
              "      <th>DATACOMUNICACAO</th>\n",
              "      <th>DATAELABORACAO</th>\n",
              "      <th>BO_AUTORIA</th>\n",
              "      <th>FLAGRANTE</th>\n",
              "      <th>NUMERO_BOLETIM_PRINCIPAL</th>\n",
              "      <th>LOGRADOURO</th>\n",
              "      <th>NUMERO</th>\n",
              "      <th>BAIRRO</th>\n",
              "      <th>CIDADE</th>\n",
              "      <th>UF</th>\n",
              "      <th>LATITUDE</th>\n",
              "      <th>LONGITUDE</th>\n",
              "      <th>DESCRICAOLOCAL</th>\n",
              "      <th>EXAME</th>\n",
              "      <th>SOLUCAO</th>\n",
              "      <th>DELEGACIA_NOME</th>\n",
              "      <th>DELEGACIA_CIRCUNSCRICAO</th>\n",
              "      <th>ESPECIE</th>\n",
              "      <th>RUBRICA</th>\n",
              "      <th>DESDOBRAMENTO</th>\n",
              "      <th>STATUS</th>\n",
              "      <th>NOMEPESSOA</th>\n",
              "      <th>TIPOPESSOA</th>\n",
              "      <th>VITIMAFATAL</th>\n",
              "      <th>RG</th>\n",
              "      <th>RG_UF</th>\n",
              "      <th>NATURALIDADE</th>\n",
              "      <th>NACIONALIDADE</th>\n",
              "      <th>SEXO</th>\n",
              "      <th>DATANASCIMENTO</th>\n",
              "      <th>IDADE</th>\n",
              "      <th>ESTADOCIVIL</th>\n",
              "      <th>PROFISSAO</th>\n",
              "      <th>GRAUINSTRUCAO</th>\n",
              "      <th>CORCUTIS</th>\n",
              "      <th>NATUREZAVINCULADA</th>\n",
              "      <th>TIPOVINCULO</th>\n",
              "      <th>RELACIONAMENTO</th>\n",
              "      <th>PARENTESCO</th>\n",
              "      <th>PLACA_VEICULO</th>\n",
              "      <th>UF_VEICULO</th>\n",
              "      <th>CIDADE_VEICULO</th>\n",
              "      <th>DESCR_COR_VEICULO</th>\n",
              "      <th>DESCR_MARCA_VEICULO</th>\n",
              "      <th>ANO_FABRICACAO</th>\n",
              "      <th>ANO_MODELO</th>\n",
              "      <th>DESCR_TIPO_VEICULO</th>\n",
              "      <th>QUANT_CELULAR</th>\n",
              "      <th>MARCA_CELULAR</th>\n",
              "    </tr>\n",
              "  </thead>\n",
              "  <tbody>\n",
              "    <tr>\n",
              "      <th>0</th>\n",
              "      <td>2018</td>\n",
              "      <td>4590</td>\n",
              "      <td>4590/2018</td>\n",
              "      <td>31/12/2018 23:55:04</td>\n",
              "      <td>01/01/2019 00:04:02</td>\n",
              "      <td>31/12/2018</td>\n",
              "      <td>22:30</td>\n",
              "      <td>A NOITE</td>\n",
              "      <td>31/12/2018</td>\n",
              "      <td>31/12/2018 23:55:04</td>\n",
              "      <td>Desconhecida</td>\n",
              "      <td>Não</td>\n",
              "      <td>NaN</td>\n",
              "      <td>RUA MACAMBIRA</td>\n",
              "      <td>107.0</td>\n",
              "      <td>JD COPACABANA</td>\n",
              "      <td>POA</td>\n",
              "      <td>SP</td>\n",
              "      <td>-23,5118576616756</td>\n",
              "      <td>-46,3352769796081</td>\n",
              "      <td>Via pública</td>\n",
              "      <td>NaN</td>\n",
              "      <td>BO PARA INVESTIGAÇÃO</td>\n",
              "      <td>DEL.POL.POA</td>\n",
              "      <td>DEL.POL.POA</td>\n",
              "      <td>Título II - Patrimônio (arts. 155 a 183)</td>\n",
              "      <td>Roubo (art. 157) - VEICULO</td>\n",
              "      <td>NaN</td>\n",
              "      <td>Consumado</td>\n",
              "      <td>NaN</td>\n",
              "      <td>NaN</td>\n",
              "      <td>NaN</td>\n",
              "      <td>NaN</td>\n",
              "      <td>NaN</td>\n",
              "      <td>NaN</td>\n",
              "      <td>NaN</td>\n",
              "      <td>NaN</td>\n",
              "      <td>NaN</td>\n",
              "      <td>NaN</td>\n",
              "      <td>NaN</td>\n",
              "      <td>NaN</td>\n",
              "      <td>NaN</td>\n",
              "      <td>NaN</td>\n",
              "      <td>NaN</td>\n",
              "      <td>NaN</td>\n",
              "      <td>NaN</td>\n",
              "      <td>NaN</td>\n",
              "      <td>FUL0185</td>\n",
              "      <td>SP</td>\n",
              "      <td>SAO PAULO</td>\n",
              "      <td>Vermelho</td>\n",
              "      <td>VW/FOX 1.0 GII</td>\n",
              "      <td>2014.0</td>\n",
              "      <td>2014.0</td>\n",
              "      <td>AUTOMOVEL</td>\n",
              "      <td>NaN</td>\n",
              "      <td>NaN</td>\n",
              "    </tr>\n",
              "    <tr>\n",
              "      <th>1</th>\n",
              "      <td>2018</td>\n",
              "      <td>8741</td>\n",
              "      <td>8741/2018</td>\n",
              "      <td>31/12/2018 23:50:15</td>\n",
              "      <td>01/01/2019 00:06:43</td>\n",
              "      <td>31/12/2018</td>\n",
              "      <td>23:30</td>\n",
              "      <td>A NOITE</td>\n",
              "      <td>31/12/2018</td>\n",
              "      <td>31/12/2018 23:50:15</td>\n",
              "      <td>Desconhecida</td>\n",
              "      <td>Não</td>\n",
              "      <td>NaN</td>\n",
              "      <td>AVENIDA MARECHAL TITO</td>\n",
              "      <td>3000.0</td>\n",
              "      <td>VILA CURUCA</td>\n",
              "      <td>S.PAULO</td>\n",
              "      <td>SP</td>\n",
              "      <td>-23,4939589350168</td>\n",
              "      <td>-46,4171801512192</td>\n",
              "      <td>Via pública</td>\n",
              "      <td>NaN</td>\n",
              "      <td>BO PARA REGISTRO</td>\n",
              "      <td>04º D.P. GUARULHOS</td>\n",
              "      <td>59º D.P. JARDIM DOS IPES</td>\n",
              "      <td>Título II - Patrimônio (arts. 155 a 183)</td>\n",
              "      <td>Roubo (art. 157) - VEICULO</td>\n",
              "      <td>NaN</td>\n",
              "      <td>Consumado</td>\n",
              "      <td>NaN</td>\n",
              "      <td>NaN</td>\n",
              "      <td>NaN</td>\n",
              "      <td>NaN</td>\n",
              "      <td>NaN</td>\n",
              "      <td>NaN</td>\n",
              "      <td>NaN</td>\n",
              "      <td>NaN</td>\n",
              "      <td>NaN</td>\n",
              "      <td>NaN</td>\n",
              "      <td>NaN</td>\n",
              "      <td>NaN</td>\n",
              "      <td>NaN</td>\n",
              "      <td>NaN</td>\n",
              "      <td>NaN</td>\n",
              "      <td>NaN</td>\n",
              "      <td>NaN</td>\n",
              "      <td>NaN</td>\n",
              "      <td>FJT8505</td>\n",
              "      <td>SP</td>\n",
              "      <td>SAO PAULO</td>\n",
              "      <td>Preta</td>\n",
              "      <td>CHEVROLET/ONIX 1.0MT LT</td>\n",
              "      <td>2013.0</td>\n",
              "      <td>2013.0</td>\n",
              "      <td>AUTOMOVEL</td>\n",
              "      <td>NaN</td>\n",
              "      <td>NaN</td>\n",
              "    </tr>\n",
              "    <tr>\n",
              "      <th>2</th>\n",
              "      <td>2018</td>\n",
              "      <td>3396</td>\n",
              "      <td>3396/2018</td>\n",
              "      <td>31/12/2018 23:46:32</td>\n",
              "      <td>01/01/2019 00:09:17</td>\n",
              "      <td>31/12/2018</td>\n",
              "      <td>22:00</td>\n",
              "      <td>A NOITE</td>\n",
              "      <td>31/12/2018</td>\n",
              "      <td>31/12/2018 23:46:32</td>\n",
              "      <td>Conhecida</td>\n",
              "      <td>Não</td>\n",
              "      <td>NaN</td>\n",
              "      <td>RUA CAMPOS SALES</td>\n",
              "      <td>100.0</td>\n",
              "      <td>JARDIM AMANDA</td>\n",
              "      <td>HORTOLANDIA</td>\n",
              "      <td>SP</td>\n",
              "      <td>-22,9062400961084</td>\n",
              "      <td>-47,2475555090341</td>\n",
              "      <td>Via pública</td>\n",
              "      <td>NaN</td>\n",
              "      <td>BO PARA REGISTRO</td>\n",
              "      <td>DEL.POL.PLANTÃO HORTOLÂNDIA</td>\n",
              "      <td>02º D.P. HORTOLÂNDIA</td>\n",
              "      <td>Título II - Patrimônio (arts. 155 a 183)</td>\n",
              "      <td>Roubo (art. 157) - VEICULO</td>\n",
              "      <td>NaN</td>\n",
              "      <td>Consumado</td>\n",
              "      <td>NaN</td>\n",
              "      <td>NaN</td>\n",
              "      <td>NaN</td>\n",
              "      <td>NaN</td>\n",
              "      <td>NaN</td>\n",
              "      <td>NaN</td>\n",
              "      <td>NaN</td>\n",
              "      <td>NaN</td>\n",
              "      <td>NaN</td>\n",
              "      <td>NaN</td>\n",
              "      <td>NaN</td>\n",
              "      <td>NaN</td>\n",
              "      <td>NaN</td>\n",
              "      <td>NaN</td>\n",
              "      <td>NaN</td>\n",
              "      <td>NaN</td>\n",
              "      <td>NaN</td>\n",
              "      <td>NaN</td>\n",
              "      <td>PXO8626</td>\n",
              "      <td>SP</td>\n",
              "      <td>HORTOLANDIA</td>\n",
              "      <td>Marrom</td>\n",
              "      <td>HYUNDAI/HB20 1.0M COMFOR</td>\n",
              "      <td>2016.0</td>\n",
              "      <td>2016.0</td>\n",
              "      <td>AUTOMOVEL</td>\n",
              "      <td>NaN</td>\n",
              "      <td>NaN</td>\n",
              "    </tr>\n",
              "    <tr>\n",
              "      <th>3</th>\n",
              "      <td>2018</td>\n",
              "      <td>5767</td>\n",
              "      <td>5767/2018</td>\n",
              "      <td>31/12/2018 23:52:58</td>\n",
              "      <td>01/01/2019 00:18:30</td>\n",
              "      <td>31/12/2018</td>\n",
              "      <td>23:20</td>\n",
              "      <td>A NOITE</td>\n",
              "      <td>31/12/2018</td>\n",
              "      <td>31/12/2018 23:52:58</td>\n",
              "      <td>Desconhecida</td>\n",
              "      <td>Não</td>\n",
              "      <td>NaN</td>\n",
              "      <td>RUA HIPOLITO DE CAMARGO</td>\n",
              "      <td>100.0</td>\n",
              "      <td>GUAIANASES</td>\n",
              "      <td>S.PAULO</td>\n",
              "      <td>SP</td>\n",
              "      <td>-23,543205925175</td>\n",
              "      <td>-46,415892549225</td>\n",
              "      <td>Via pública</td>\n",
              "      <td>NaN</td>\n",
              "      <td>BO PARA INVESTIGAÇÃO</td>\n",
              "      <td>44º D.P. GUAIANAZES</td>\n",
              "      <td>44º D.P. GUAIANAZES</td>\n",
              "      <td>Título II - Patrimônio (arts. 155 a 183)</td>\n",
              "      <td>Roubo (art. 157) - VEICULO</td>\n",
              "      <td>NaN</td>\n",
              "      <td>Consumado</td>\n",
              "      <td>NaN</td>\n",
              "      <td>NaN</td>\n",
              "      <td>NaN</td>\n",
              "      <td>NaN</td>\n",
              "      <td>NaN</td>\n",
              "      <td>NaN</td>\n",
              "      <td>NaN</td>\n",
              "      <td>NaN</td>\n",
              "      <td>NaN</td>\n",
              "      <td>NaN</td>\n",
              "      <td>NaN</td>\n",
              "      <td>NaN</td>\n",
              "      <td>NaN</td>\n",
              "      <td>NaN</td>\n",
              "      <td>NaN</td>\n",
              "      <td>NaN</td>\n",
              "      <td>NaN</td>\n",
              "      <td>NaN</td>\n",
              "      <td>FOX4452</td>\n",
              "      <td>SP</td>\n",
              "      <td>SAO PAULO</td>\n",
              "      <td>Vermelho</td>\n",
              "      <td>VW/FOX 1.0</td>\n",
              "      <td>2007.0</td>\n",
              "      <td>2008.0</td>\n",
              "      <td>AUTOMOVEL</td>\n",
              "      <td>NaN</td>\n",
              "      <td>NaN</td>\n",
              "    </tr>\n",
              "    <tr>\n",
              "      <th>4</th>\n",
              "      <td>2018</td>\n",
              "      <td>12332</td>\n",
              "      <td>12332/2018</td>\n",
              "      <td>31/12/2018 23:57:00</td>\n",
              "      <td>01/01/2019 00:23:55</td>\n",
              "      <td>31/12/2018</td>\n",
              "      <td>22:45</td>\n",
              "      <td>A NOITE</td>\n",
              "      <td>31/12/2018</td>\n",
              "      <td>31/12/2018 23:57:00</td>\n",
              "      <td>Desconhecida</td>\n",
              "      <td>Não</td>\n",
              "      <td>NaN</td>\n",
              "      <td>RUA CARMEM DE ÂNGELIS NICOLETI</td>\n",
              "      <td>81.0</td>\n",
              "      <td>VILA RUY NOVAES</td>\n",
              "      <td>CAMPINAS</td>\n",
              "      <td>SP</td>\n",
              "      <td>-22,9781918127993</td>\n",
              "      <td>-47,1176935253583</td>\n",
              "      <td>Via pública</td>\n",
              "      <td>NaN</td>\n",
              "      <td>ENCAMINHAMENTO DP ÁREA DO FATO</td>\n",
              "      <td>PLANTÃO - 01 DP CAMPINAS</td>\n",
              "      <td>09º D.P. CAMPINAS</td>\n",
              "      <td>Título II - Patrimônio (arts. 155 a 183)</td>\n",
              "      <td>Roubo (art. 157) - VEICULO</td>\n",
              "      <td>caput. Subtrair coisa móvel alheia, mediante g...</td>\n",
              "      <td>Consumado</td>\n",
              "      <td>NaN</td>\n",
              "      <td>NaN</td>\n",
              "      <td>NaN</td>\n",
              "      <td>NaN</td>\n",
              "      <td>NaN</td>\n",
              "      <td>NaN</td>\n",
              "      <td>NaN</td>\n",
              "      <td>NaN</td>\n",
              "      <td>NaN</td>\n",
              "      <td>NaN</td>\n",
              "      <td>NaN</td>\n",
              "      <td>NaN</td>\n",
              "      <td>NaN</td>\n",
              "      <td>NaN</td>\n",
              "      <td>NaN</td>\n",
              "      <td>NaN</td>\n",
              "      <td>NaN</td>\n",
              "      <td>NaN</td>\n",
              "      <td>FEM0368</td>\n",
              "      <td>SP</td>\n",
              "      <td>CAMPINAS</td>\n",
              "      <td>Vermelho</td>\n",
              "      <td>HONDA/CG 150 TITAN ESD</td>\n",
              "      <td>2012.0</td>\n",
              "      <td>2013.0</td>\n",
              "      <td>MOTOCICLO</td>\n",
              "      <td>NaN</td>\n",
              "      <td>NaN</td>\n",
              "    </tr>\n",
              "  </tbody>\n",
              "</table>\n",
              "</div>"
            ],
            "text/plain": [
              "   ANO_BO  NUM_BO  ... QUANT_CELULAR MARCA_CELULAR\n",
              "0    2018    4590  ...           NaN           NaN\n",
              "1    2018    8741  ...           NaN           NaN\n",
              "2    2018    3396  ...           NaN           NaN\n",
              "3    2018    5767  ...           NaN           NaN\n",
              "4    2018   12332  ...           NaN           NaN\n",
              "\n",
              "[5 rows x 57 columns]"
            ]
          },
          "metadata": {
            "tags": []
          },
          "execution_count": 7
        }
      ]
    },
    {
      "cell_type": "code",
      "metadata": {
        "id": "cDZwRyWRydi1",
        "colab_type": "code",
        "colab": {}
      },
      "source": [
        "# ordena temporalmente\n",
        "data.sort_values([\"DATAOCORRENCIA\", \"HORAOCORRENCIA\"], inplace=True)"
      ],
      "execution_count": 0,
      "outputs": []
    },
    {
      "cell_type": "code",
      "metadata": {
        "id": "LAD4hjjXzy7h",
        "colab_type": "code",
        "outputId": "74e45d7c-8233-4015-e1b7-70a9d98b494d",
        "colab": {
          "base_uri": "https://localhost:8080/",
          "height": 479
        }
      },
      "source": [
        "data.head()"
      ],
      "execution_count": 9,
      "outputs": [
        {
          "output_type": "execute_result",
          "data": {
            "text/html": [
              "<div>\n",
              "<style scoped>\n",
              "    .dataframe tbody tr th:only-of-type {\n",
              "        vertical-align: middle;\n",
              "    }\n",
              "\n",
              "    .dataframe tbody tr th {\n",
              "        vertical-align: top;\n",
              "    }\n",
              "\n",
              "    .dataframe thead th {\n",
              "        text-align: right;\n",
              "    }\n",
              "</style>\n",
              "<table border=\"1\" class=\"dataframe\">\n",
              "  <thead>\n",
              "    <tr style=\"text-align: right;\">\n",
              "      <th></th>\n",
              "      <th>ANO_BO</th>\n",
              "      <th>NUM_BO</th>\n",
              "      <th>NUMERO_BOLETIM</th>\n",
              "      <th>BO_INICIADO</th>\n",
              "      <th>BO_EMITIDO</th>\n",
              "      <th>DATAOCORRENCIA</th>\n",
              "      <th>HORAOCORRENCIA</th>\n",
              "      <th>PERIDOOCORRENCIA</th>\n",
              "      <th>DATACOMUNICACAO</th>\n",
              "      <th>DATAELABORACAO</th>\n",
              "      <th>BO_AUTORIA</th>\n",
              "      <th>FLAGRANTE</th>\n",
              "      <th>NUMERO_BOLETIM_PRINCIPAL</th>\n",
              "      <th>LOGRADOURO</th>\n",
              "      <th>NUMERO</th>\n",
              "      <th>BAIRRO</th>\n",
              "      <th>CIDADE</th>\n",
              "      <th>UF</th>\n",
              "      <th>LATITUDE</th>\n",
              "      <th>LONGITUDE</th>\n",
              "      <th>DESCRICAOLOCAL</th>\n",
              "      <th>EXAME</th>\n",
              "      <th>SOLUCAO</th>\n",
              "      <th>DELEGACIA_NOME</th>\n",
              "      <th>DELEGACIA_CIRCUNSCRICAO</th>\n",
              "      <th>ESPECIE</th>\n",
              "      <th>RUBRICA</th>\n",
              "      <th>DESDOBRAMENTO</th>\n",
              "      <th>STATUS</th>\n",
              "      <th>NOMEPESSOA</th>\n",
              "      <th>TIPOPESSOA</th>\n",
              "      <th>VITIMAFATAL</th>\n",
              "      <th>RG</th>\n",
              "      <th>RG_UF</th>\n",
              "      <th>NATURALIDADE</th>\n",
              "      <th>NACIONALIDADE</th>\n",
              "      <th>SEXO</th>\n",
              "      <th>DATANASCIMENTO</th>\n",
              "      <th>IDADE</th>\n",
              "      <th>ESTADOCIVIL</th>\n",
              "      <th>PROFISSAO</th>\n",
              "      <th>GRAUINSTRUCAO</th>\n",
              "      <th>CORCUTIS</th>\n",
              "      <th>NATUREZAVINCULADA</th>\n",
              "      <th>TIPOVINCULO</th>\n",
              "      <th>RELACIONAMENTO</th>\n",
              "      <th>PARENTESCO</th>\n",
              "      <th>PLACA_VEICULO</th>\n",
              "      <th>UF_VEICULO</th>\n",
              "      <th>CIDADE_VEICULO</th>\n",
              "      <th>DESCR_COR_VEICULO</th>\n",
              "      <th>DESCR_MARCA_VEICULO</th>\n",
              "      <th>ANO_FABRICACAO</th>\n",
              "      <th>ANO_MODELO</th>\n",
              "      <th>DESCR_TIPO_VEICULO</th>\n",
              "      <th>QUANT_CELULAR</th>\n",
              "      <th>MARCA_CELULAR</th>\n",
              "    </tr>\n",
              "  </thead>\n",
              "  <tbody>\n",
              "    <tr>\n",
              "      <th>7242</th>\n",
              "      <td>2019</td>\n",
              "      <td>342</td>\n",
              "      <td>342/2019</td>\n",
              "      <td>23/01/2019 12:04:48</td>\n",
              "      <td>23/01/2019 12:18:12</td>\n",
              "      <td>01/01/2009</td>\n",
              "      <td>NaN</td>\n",
              "      <td>EM HORA INCERTA</td>\n",
              "      <td>23/01/2019</td>\n",
              "      <td>23/01/2019 12:04:48</td>\n",
              "      <td>Desconhecida</td>\n",
              "      <td>Não</td>\n",
              "      <td>NaN</td>\n",
              "      <td>RUA FORTE DE TRINDADE</td>\n",
              "      <td>114.0</td>\n",
              "      <td>PARELHEIROS</td>\n",
              "      <td>S.PAULO</td>\n",
              "      <td>SP</td>\n",
              "      <td>-23,7859285982025</td>\n",
              "      <td>-46,7100060702608</td>\n",
              "      <td>Via pública</td>\n",
              "      <td>NaN</td>\n",
              "      <td>BO PARA INVESTIGAÇÃO</td>\n",
              "      <td>25º D.P. PARELHEIROS</td>\n",
              "      <td>25º D.P. PARELHEIROS</td>\n",
              "      <td>Título II - Patrimônio (arts. 155 a 183)</td>\n",
              "      <td>Roubo (art. 157) - VEICULO</td>\n",
              "      <td>NaN</td>\n",
              "      <td>Consumado</td>\n",
              "      <td>NaN</td>\n",
              "      <td>NaN</td>\n",
              "      <td>NaN</td>\n",
              "      <td>NaN</td>\n",
              "      <td>NaN</td>\n",
              "      <td>NaN</td>\n",
              "      <td>NaN</td>\n",
              "      <td>NaN</td>\n",
              "      <td>NaN</td>\n",
              "      <td>NaN</td>\n",
              "      <td>NaN</td>\n",
              "      <td>NaN</td>\n",
              "      <td>NaN</td>\n",
              "      <td>NaN</td>\n",
              "      <td>NaN</td>\n",
              "      <td>NaN</td>\n",
              "      <td>NaN</td>\n",
              "      <td>NaN</td>\n",
              "      <td>DZU6639</td>\n",
              "      <td>SP</td>\n",
              "      <td>SAO PAULO</td>\n",
              "      <td>Cinza</td>\n",
              "      <td>HONDA/CG 125 FAN</td>\n",
              "      <td>2008.0</td>\n",
              "      <td>2008.0</td>\n",
              "      <td>MOTOCICLO</td>\n",
              "      <td>NaN</td>\n",
              "      <td>NaN</td>\n",
              "    </tr>\n",
              "    <tr>\n",
              "      <th>29</th>\n",
              "      <td>2018</td>\n",
              "      <td>8215</td>\n",
              "      <td>8215/2018</td>\n",
              "      <td>01/01/2019 00:49:29</td>\n",
              "      <td>01/01/2019 01:11:55</td>\n",
              "      <td>01/01/2019</td>\n",
              "      <td>00:01</td>\n",
              "      <td>DE MADRUGADA</td>\n",
              "      <td>01/01/2019</td>\n",
              "      <td>01/01/2019 00:49:29</td>\n",
              "      <td>Desconhecida</td>\n",
              "      <td>Não</td>\n",
              "      <td>NaN</td>\n",
              "      <td>RUA RIO NEGRO</td>\n",
              "      <td>398.0</td>\n",
              "      <td>JD NOVA ITAQUA</td>\n",
              "      <td>ITAQUAQUECETUBA</td>\n",
              "      <td>SP</td>\n",
              "      <td>-23,4701585789999</td>\n",
              "      <td>-46,346351778</td>\n",
              "      <td>Via pública</td>\n",
              "      <td>NaN</td>\n",
              "      <td>APRECIAÇÃO DO DELEGADO TITULAR</td>\n",
              "      <td>DEL.POL.ITAQUAQUECETUBA</td>\n",
              "      <td>DEL.POL.ITAQUAQUECETUBA</td>\n",
              "      <td>Título II - Patrimônio (arts. 155 a 183)</td>\n",
              "      <td>Roubo (art. 157) - VEICULO</td>\n",
              "      <td>NaN</td>\n",
              "      <td>Consumado</td>\n",
              "      <td>NaN</td>\n",
              "      <td>NaN</td>\n",
              "      <td>NaN</td>\n",
              "      <td>NaN</td>\n",
              "      <td>NaN</td>\n",
              "      <td>NaN</td>\n",
              "      <td>NaN</td>\n",
              "      <td>NaN</td>\n",
              "      <td>NaN</td>\n",
              "      <td>NaN</td>\n",
              "      <td>NaN</td>\n",
              "      <td>NaN</td>\n",
              "      <td>NaN</td>\n",
              "      <td>NaN</td>\n",
              "      <td>NaN</td>\n",
              "      <td>NaN</td>\n",
              "      <td>NaN</td>\n",
              "      <td>NaN</td>\n",
              "      <td>OQW4570</td>\n",
              "      <td>SP</td>\n",
              "      <td>ITAQUAQUECETUBA</td>\n",
              "      <td>Prata</td>\n",
              "      <td>VW/NOVO GOL 1.0 CITY</td>\n",
              "      <td>2013.0</td>\n",
              "      <td>2014.0</td>\n",
              "      <td>AUTOMOVEL</td>\n",
              "      <td>NaN</td>\n",
              "      <td>NaN</td>\n",
              "    </tr>\n",
              "    <tr>\n",
              "      <th>25</th>\n",
              "      <td>2018</td>\n",
              "      <td>9467</td>\n",
              "      <td>9467/2018</td>\n",
              "      <td>01/01/2019 00:51:12</td>\n",
              "      <td>01/01/2019 01:05:10</td>\n",
              "      <td>01/01/2019</td>\n",
              "      <td>00:10</td>\n",
              "      <td>DE MADRUGADA</td>\n",
              "      <td>01/01/2019</td>\n",
              "      <td>01/01/2019 00:51:12</td>\n",
              "      <td>Desconhecida</td>\n",
              "      <td>Não</td>\n",
              "      <td>NaN</td>\n",
              "      <td>ESTRADA CAUCAIA DO ALTO</td>\n",
              "      <td>1600.0</td>\n",
              "      <td>CHACARA BEL VERC</td>\n",
              "      <td>VARGEM GRANDE PAULISTA</td>\n",
              "      <td>SP</td>\n",
              "      <td>-23,647253196</td>\n",
              "      <td>-46,994073295</td>\n",
              "      <td>Via pública</td>\n",
              "      <td>NaN</td>\n",
              "      <td>ENCAMINHAMENTO DP ÁREA DO FATO</td>\n",
              "      <td>DEL.POL.COTIA</td>\n",
              "      <td>DEL.POL.VARGEM GRANDE PTA</td>\n",
              "      <td>Título II - Patrimônio (arts. 155 a 183)</td>\n",
              "      <td>Roubo (art. 157) - VEICULO</td>\n",
              "      <td>caput. Subtrair coisa móvel alheia, mediante g...</td>\n",
              "      <td>Consumado</td>\n",
              "      <td>NaN</td>\n",
              "      <td>NaN</td>\n",
              "      <td>NaN</td>\n",
              "      <td>NaN</td>\n",
              "      <td>NaN</td>\n",
              "      <td>NaN</td>\n",
              "      <td>NaN</td>\n",
              "      <td>NaN</td>\n",
              "      <td>NaN</td>\n",
              "      <td>NaN</td>\n",
              "      <td>NaN</td>\n",
              "      <td>NaN</td>\n",
              "      <td>NaN</td>\n",
              "      <td>NaN</td>\n",
              "      <td>NaN</td>\n",
              "      <td>NaN</td>\n",
              "      <td>NaN</td>\n",
              "      <td>NaN</td>\n",
              "      <td>DFV2592</td>\n",
              "      <td>SP</td>\n",
              "      <td>SAO PAULO</td>\n",
              "      <td>Verde</td>\n",
              "      <td>GM/CORSA MILENIUM</td>\n",
              "      <td>2001.0</td>\n",
              "      <td>2002.0</td>\n",
              "      <td>AUTOMOVEL</td>\n",
              "      <td>NaN</td>\n",
              "      <td>NaN</td>\n",
              "    </tr>\n",
              "    <tr>\n",
              "      <th>241</th>\n",
              "      <td>2019</td>\n",
              "      <td>399</td>\n",
              "      <td>399/2019</td>\n",
              "      <td>01/01/2019 11:46:12</td>\n",
              "      <td>01/01/2019 11:46:38</td>\n",
              "      <td>01/01/2019</td>\n",
              "      <td>00:10</td>\n",
              "      <td>DE MADRUGADA</td>\n",
              "      <td>01/01/2019</td>\n",
              "      <td>01/01/2019 11:46:12</td>\n",
              "      <td>Desconhecida</td>\n",
              "      <td>Não</td>\n",
              "      <td>NaN</td>\n",
              "      <td>RUA CARLOS NOBRE ROSA</td>\n",
              "      <td>60.0</td>\n",
              "      <td>FREGUESIA DO O</td>\n",
              "      <td>S.PAULO</td>\n",
              "      <td>SP</td>\n",
              "      <td>-23,4811705079999</td>\n",
              "      <td>-46,6937337379999</td>\n",
              "      <td>Veículo em movimento</td>\n",
              "      <td>NaN</td>\n",
              "      <td>BO PARA INVESTIGAÇÃO</td>\n",
              "      <td>DELEGACIA ELETRONICA</td>\n",
              "      <td>28º D.P. FREGUESIA DO O</td>\n",
              "      <td>Título II - Patrimônio (arts. 155 a 183)</td>\n",
              "      <td>Roubo (art. 157) - VEICULO</td>\n",
              "      <td>NaN</td>\n",
              "      <td>Consumado</td>\n",
              "      <td>NaN</td>\n",
              "      <td>NaN</td>\n",
              "      <td>NaN</td>\n",
              "      <td>NaN</td>\n",
              "      <td>NaN</td>\n",
              "      <td>NaN</td>\n",
              "      <td>NaN</td>\n",
              "      <td>NaN</td>\n",
              "      <td>NaN</td>\n",
              "      <td>NaN</td>\n",
              "      <td>NaN</td>\n",
              "      <td>NaN</td>\n",
              "      <td>NaN</td>\n",
              "      <td>NaN</td>\n",
              "      <td>NaN</td>\n",
              "      <td>NaN</td>\n",
              "      <td>NaN</td>\n",
              "      <td>NaN</td>\n",
              "      <td>NaN</td>\n",
              "      <td>SP</td>\n",
              "      <td>NaN</td>\n",
              "      <td>Preta</td>\n",
              "      <td>HONDA/XRE 300</td>\n",
              "      <td>NaN</td>\n",
              "      <td>NaN</td>\n",
              "      <td>MOTOCICLO</td>\n",
              "      <td>NaN</td>\n",
              "      <td>NaN</td>\n",
              "    </tr>\n",
              "    <tr>\n",
              "      <th>242</th>\n",
              "      <td>2019</td>\n",
              "      <td>399</td>\n",
              "      <td>399/2019</td>\n",
              "      <td>01/01/2019 11:46:12</td>\n",
              "      <td>01/01/2019 11:46:38</td>\n",
              "      <td>01/01/2019</td>\n",
              "      <td>00:10</td>\n",
              "      <td>DE MADRUGADA</td>\n",
              "      <td>01/01/2019</td>\n",
              "      <td>01/01/2019 11:46:12</td>\n",
              "      <td>Desconhecida</td>\n",
              "      <td>Não</td>\n",
              "      <td>NaN</td>\n",
              "      <td>RUA CARLOS NOBRE ROSA</td>\n",
              "      <td>60.0</td>\n",
              "      <td>FREGUESIA DO O</td>\n",
              "      <td>S.PAULO</td>\n",
              "      <td>SP</td>\n",
              "      <td>-23,4811705079999</td>\n",
              "      <td>-46,6937337379999</td>\n",
              "      <td>Veículo em movimento</td>\n",
              "      <td>NaN</td>\n",
              "      <td>BO PARA INVESTIGAÇÃO</td>\n",
              "      <td>DELEGACIA ELETRONICA</td>\n",
              "      <td>28º D.P. FREGUESIA DO O</td>\n",
              "      <td>Título II - Patrimônio (arts. 155 a 183)</td>\n",
              "      <td>Roubo (art. 157) - VEICULO</td>\n",
              "      <td>NaN</td>\n",
              "      <td>Consumado</td>\n",
              "      <td>NaN</td>\n",
              "      <td>NaN</td>\n",
              "      <td>NaN</td>\n",
              "      <td>NaN</td>\n",
              "      <td>NaN</td>\n",
              "      <td>NaN</td>\n",
              "      <td>NaN</td>\n",
              "      <td>NaN</td>\n",
              "      <td>NaN</td>\n",
              "      <td>NaN</td>\n",
              "      <td>NaN</td>\n",
              "      <td>NaN</td>\n",
              "      <td>NaN</td>\n",
              "      <td>NaN</td>\n",
              "      <td>NaN</td>\n",
              "      <td>NaN</td>\n",
              "      <td>NaN</td>\n",
              "      <td>NaN</td>\n",
              "      <td>NaN</td>\n",
              "      <td>SP</td>\n",
              "      <td>NaN</td>\n",
              "      <td>Vermelho</td>\n",
              "      <td>NaN</td>\n",
              "      <td>NaN</td>\n",
              "      <td>NaN</td>\n",
              "      <td>MOTOCICLO</td>\n",
              "      <td>NaN</td>\n",
              "      <td>NaN</td>\n",
              "    </tr>\n",
              "  </tbody>\n",
              "</table>\n",
              "</div>"
            ],
            "text/plain": [
              "      ANO_BO  NUM_BO  ... QUANT_CELULAR MARCA_CELULAR\n",
              "7242    2019     342  ...           NaN           NaN\n",
              "29      2018    8215  ...           NaN           NaN\n",
              "25      2018    9467  ...           NaN           NaN\n",
              "241     2019     399  ...           NaN           NaN\n",
              "242     2019     399  ...           NaN           NaN\n",
              "\n",
              "[5 rows x 57 columns]"
            ]
          },
          "metadata": {
            "tags": []
          },
          "execution_count": 9
        }
      ]
    },
    {
      "cell_type": "code",
      "metadata": {
        "id": "IqEXEWMxY4av",
        "colab_type": "code",
        "colab": {}
      },
      "source": [
        "from sklearn.impute import SimpleImputer"
      ],
      "execution_count": 0,
      "outputs": []
    },
    {
      "cell_type": "code",
      "metadata": {
        "id": "inwwZf7hZDtj",
        "colab_type": "code",
        "colab": {}
      },
      "source": [
        "# substitui valores faltantes pelo mais frenquente\n",
        "imputer = SimpleImputer(missing_values=np.nan, strategy='most_frequent')"
      ],
      "execution_count": 0,
      "outputs": []
    },
    {
      "cell_type": "code",
      "metadata": {
        "id": "bs58Jk4CZK5t",
        "colab_type": "code",
        "colab": {}
      },
      "source": [
        "# aplica a coluna que quero modificar\n",
        "data[['HORAOCORRENCIA']] = imputer.fit_transform(data[['HORAOCORRENCIA']])"
      ],
      "execution_count": 0,
      "outputs": []
    },
    {
      "cell_type": "code",
      "metadata": {
        "id": "q3ZRw1Xc2hm_",
        "colab_type": "code",
        "colab": {}
      },
      "source": [
        "# divido a coluna 'HORAOCORRENCIA' em hora e minuto\n",
        "hora = data['HORAOCORRENCIA'].str.split(':', n=1, expand=True)"
      ],
      "execution_count": 0,
      "outputs": []
    },
    {
      "cell_type": "code",
      "metadata": {
        "id": "O4RWQnoR48XH",
        "colab_type": "code",
        "colab": {}
      },
      "source": [
        "# transformo em um DataFrame\n",
        "hora = pd.DataFrame(hora)"
      ],
      "execution_count": 0,
      "outputs": []
    },
    {
      "cell_type": "code",
      "metadata": {
        "id": "cR9uQxM46FAV",
        "colab_type": "code",
        "colab": {}
      },
      "source": [
        "# transformo o tipo Object para integer\n",
        "hora[0] = hora[0].astype('int64')"
      ],
      "execution_count": 0,
      "outputs": []
    },
    {
      "cell_type": "code",
      "metadata": {
        "id": "7hi9jXGR6lcM",
        "colab_type": "code",
        "outputId": "0288263d-da1b-4460-e948-59bfbb3d8334",
        "colab": {
          "base_uri": "https://localhost:8080/",
          "height": 34
        }
      },
      "source": [
        "hora[0].dtype"
      ],
      "execution_count": 16,
      "outputs": [
        {
          "output_type": "execute_result",
          "data": {
            "text/plain": [
              "dtype('int64')"
            ]
          },
          "metadata": {
            "tags": []
          },
          "execution_count": 16
        }
      ]
    },
    {
      "cell_type": "code",
      "metadata": {
        "id": "mfP9B01x59S_",
        "colab_type": "code",
        "colab": {}
      },
      "source": [
        "# crio vários arrays para contar quantas ocorrencias aconteceram em cada hora\n",
        "\n",
        "hora0 = np.where(hora[0] == 0, 1, 0)\n",
        "hora1 = np.where(hora[0] == 1, 1, 0)\n",
        "hora2 = np.where(hora[0] == 2, 1, 0)\n",
        "hora3 = np.where(hora[0] == 3, 1, 0)\n",
        "hora4 = np.where(hora[0] == 4, 1, 0)\n",
        "hora5 = np.where(hora[0] == 5, 1, 0)\n",
        "hora6 = np.where(hora[0] == 6, 1, 0)\n",
        "hora7 = np.where(hora[0] == 7, 1, 0)\n",
        "hora8 = np.where(hora[0] == 8, 1, 0)\n",
        "hora9 = np.where(hora[0] == 9, 1, 0)\n",
        "hora10 = np.where(hora[0] == 10, 1, 0)\n",
        "hora11 = np.where(hora[0] == 11, 1, 0)\n",
        "hora12 = np.where(hora[0] == 12, 1, 0)\n",
        "hora13 = np.where(hora[0] == 13, 1, 0)\n",
        "hora14 = np.where(hora[0] == 14, 1, 0)\n",
        "hora15 = np.where(hora[0] == 15, 1, 0)\n",
        "hora16 = np.where(hora[0] == 16, 1, 0)\n",
        "hora17 = np.where(hora[0] == 17, 1, 0)\n",
        "hora18 = np.where(hora[0] == 18, 1, 0)\n",
        "hora19 = np.where(hora[0] == 19, 1, 0)\n",
        "hora20 = np.where(hora[0] == 20, 1, 0)\n",
        "hora21 = np.where(hora[0] == 21, 1, 0)\n",
        "hora22 = np.where(hora[0] == 22, 1, 0)\n",
        "hora23 = np.where(hora[0] == 23, 1, 0)"
      ],
      "execution_count": 0,
      "outputs": []
    },
    {
      "cell_type": "code",
      "metadata": {
        "id": "b48zZPk465Iq",
        "colab_type": "code",
        "outputId": "a6ca8df5-bf1c-473e-d65b-8e0317a21f79",
        "colab": {
          "base_uri": "https://localhost:8080/",
          "height": 34
        }
      },
      "source": [
        "# na hora 0 tivera 442 ocorrencias\n",
        "sum(hora0)"
      ],
      "execution_count": 18,
      "outputs": [
        {
          "output_type": "execute_result",
          "data": {
            "text/plain": [
              "4125"
            ]
          },
          "metadata": {
            "tags": []
          },
          "execution_count": 18
        }
      ]
    },
    {
      "cell_type": "code",
      "metadata": {
        "id": "zbapGBsx7pwE",
        "colab_type": "code",
        "outputId": "5ae96be5-ff97-442c-b8d1-8d5b2e12eb9d",
        "colab": {
          "base_uri": "https://localhost:8080/",
          "height": 34
        }
      },
      "source": [
        "sum(hora1)"
      ],
      "execution_count": 19,
      "outputs": [
        {
          "output_type": "execute_result",
          "data": {
            "text/plain": [
              "3682"
            ]
          },
          "metadata": {
            "tags": []
          },
          "execution_count": 19
        }
      ]
    },
    {
      "cell_type": "code",
      "metadata": {
        "id": "-UHqj17M7rq8",
        "colab_type": "code",
        "outputId": "efa55c9a-1188-411a-df09-35e277fb4f32",
        "colab": {
          "base_uri": "https://localhost:8080/",
          "height": 34
        }
      },
      "source": [
        "sum(hora2)"
      ],
      "execution_count": 20,
      "outputs": [
        {
          "output_type": "execute_result",
          "data": {
            "text/plain": [
              "2768"
            ]
          },
          "metadata": {
            "tags": []
          },
          "execution_count": 20
        }
      ]
    },
    {
      "cell_type": "code",
      "metadata": {
        "id": "rAO83LOn7uKE",
        "colab_type": "code",
        "outputId": "b8a4c049-3580-49ab-9218-ad7f0cb666c4",
        "colab": {
          "base_uri": "https://localhost:8080/",
          "height": 34
        }
      },
      "source": [
        "sum(hora3)"
      ],
      "execution_count": 21,
      "outputs": [
        {
          "output_type": "execute_result",
          "data": {
            "text/plain": [
              "2715"
            ]
          },
          "metadata": {
            "tags": []
          },
          "execution_count": 21
        }
      ]
    },
    {
      "cell_type": "code",
      "metadata": {
        "id": "LFN8KCn278Xf",
        "colab_type": "code",
        "colab": {}
      },
      "source": [
        "data['HORAOCORRENCIA'] = hora[0]"
      ],
      "execution_count": 0,
      "outputs": []
    },
    {
      "cell_type": "code",
      "metadata": {
        "id": "vGbUiLBz8Ebr",
        "colab_type": "code",
        "outputId": "b523d510-018e-45bf-c356-14e167ae23a8",
        "colab": {
          "base_uri": "https://localhost:8080/",
          "height": 221
        }
      },
      "source": [
        "data['HORAOCORRENCIA']"
      ],
      "execution_count": 23,
      "outputs": [
        {
          "output_type": "execute_result",
          "data": {
            "text/plain": [
              "7242     20\n",
              "29        0\n",
              "25        0\n",
              "241       0\n",
              "242       0\n",
              "         ..\n",
              "11070    20\n",
              "11071    20\n",
              "11167    20\n",
              "11191    20\n",
              "11235    20\n",
              "Name: HORAOCORRENCIA, Length: 120554, dtype: int64"
            ]
          },
          "metadata": {
            "tags": []
          },
          "execution_count": 23
        }
      ]
    },
    {
      "cell_type": "code",
      "metadata": {
        "id": "zTQumBli8c-l",
        "colab_type": "code",
        "colab": {}
      },
      "source": [
        "roubos = []\n",
        "for lin in data['HORAOCORRENCIA']:\n",
        "  if lin == 0:\n",
        "    roubos.append(sum(hora0))\n",
        "  elif lin == 1:\n",
        "    roubos.append(sum(hora1))\n",
        "  elif lin == 2:\n",
        "    roubos.append(sum(hora2))\n",
        "  elif lin == 3:\n",
        "    roubos.append(sum(hora3))\n",
        "  elif lin == 4:\n",
        "    roubos.append(sum(hora4))\n",
        "  elif lin == 5:\n",
        "    roubos.append(sum(hora5))\n",
        "  elif lin == 6:\n",
        "    roubos.append(sum(hora6))\n",
        "  elif lin == 7:\n",
        "    roubos.append(sum(hora7))\n",
        "  elif lin == 8:\n",
        "    roubos.append(sum(hora8))\n",
        "  elif lin == 9:\n",
        "    roubos.append(sum(hora9))\n",
        "  elif lin == 10:\n",
        "    roubos.append(sum(hora10))\n",
        "  elif lin == 11:\n",
        "    roubos.append(sum(hora11))\n",
        "  elif lin == 12:\n",
        "    roubos.append(sum(hora12))\n",
        "  elif lin == 13:\n",
        "    roubos.append(sum(hora13))\n",
        "  elif lin == 14:\n",
        "    roubos.append(sum(hora14))\n",
        "  elif lin == 15:\n",
        "    roubos.append(sum(hora15))\n",
        "  elif lin == 16:\n",
        "    roubos.append(sum(hora16))\n",
        "  elif lin == 17:\n",
        "    roubos.append(sum(hora17))\n",
        "  elif lin == 18:\n",
        "    roubos.append(sum(hora18))\n",
        "  elif lin == 19:\n",
        "    roubos.append(sum(hora19))\n",
        "  elif lin == 20:\n",
        "    roubos.append(sum(hora20))\n",
        "  elif lin == 21:\n",
        "    roubos.append(sum(hora21))\n",
        "  elif lin == 22:\n",
        "    roubos.append(sum(hora22))\n",
        "  elif lin == 23:\n",
        "    roubos.append(sum(hora23))"
      ],
      "execution_count": 0,
      "outputs": []
    },
    {
      "cell_type": "code",
      "metadata": {
        "id": "JUwMIdMf-G_a",
        "colab_type": "code",
        "colab": {}
      },
      "source": [
        "data['ROUBOS'] = roubos"
      ],
      "execution_count": 0,
      "outputs": []
    },
    {
      "cell_type": "code",
      "metadata": {
        "id": "KspBH7hA-M8O",
        "colab_type": "code",
        "colab": {}
      },
      "source": [
        "demanda = data[['ROUBOS']] # pega a coluna de demanda"
      ],
      "execution_count": 0,
      "outputs": []
    },
    {
      "cell_type": "code",
      "metadata": {
        "id": "6-hvx4pw-k-N",
        "colab_type": "code",
        "colab": {}
      },
      "source": [
        "n_steps = 20"
      ],
      "execution_count": 0,
      "outputs": []
    },
    {
      "cell_type": "code",
      "metadata": {
        "id": "o1RON-VI32-G",
        "colab_type": "code",
        "outputId": "9d386c29-8f9a-4c20-aabc-c14532b8eb89",
        "colab": {
          "base_uri": "https://localhost:8080/",
          "height": 119
        }
      },
      "source": [
        "for time_step in range(1, n_steps+1):\n",
        "  demanda['ROUBOS'+str(time_step)] = demanda[['ROUBOS']].shift(-time_step).values"
      ],
      "execution_count": 28,
      "outputs": [
        {
          "output_type": "stream",
          "text": [
            "/usr/local/lib/python3.6/dist-packages/ipykernel_launcher.py:2: SettingWithCopyWarning: \n",
            "A value is trying to be set on a copy of a slice from a DataFrame.\n",
            "Try using .loc[row_indexer,col_indexer] = value instead\n",
            "\n",
            "See the caveats in the documentation: http://pandas.pydata.org/pandas-docs/stable/user_guide/indexing.html#returning-a-view-versus-a-copy\n",
            "  \n"
          ],
          "name": "stderr"
        }
      ]
    },
    {
      "cell_type": "code",
      "metadata": {
        "id": "goWJP1EO_FYJ",
        "colab_type": "code",
        "outputId": "910fe8d8-08d4-4217-864f-07901970480c",
        "colab": {
          "base_uri": "https://localhost:8080/",
          "height": 102
        }
      },
      "source": [
        "demanda.dropna(inplace=True)"
      ],
      "execution_count": 29,
      "outputs": [
        {
          "output_type": "stream",
          "text": [
            "/usr/local/lib/python3.6/dist-packages/ipykernel_launcher.py:1: SettingWithCopyWarning: \n",
            "A value is trying to be set on a copy of a slice from a DataFrame\n",
            "\n",
            "See the caveats in the documentation: http://pandas.pydata.org/pandas-docs/stable/user_guide/indexing.html#returning-a-view-versus-a-copy\n",
            "  \"\"\"Entry point for launching an IPython kernel.\n"
          ],
          "name": "stderr"
        }
      ]
    },
    {
      "cell_type": "code",
      "metadata": {
        "id": "Vsx6TXNQ_JP-",
        "colab_type": "code",
        "colab": {}
      },
      "source": [
        "X = demanda.iloc[:, :n_steps].values\n",
        "X = np.reshape(X, (X.shape[0], n_steps, 1)) # adiciona dimensão"
      ],
      "execution_count": 0,
      "outputs": []
    },
    {
      "cell_type": "code",
      "metadata": {
        "id": "N7Du0dkV_jgv",
        "colab_type": "code",
        "outputId": "bbdc6d8a-5ad2-4627-bd08-121dc95eaedb",
        "colab": {
          "base_uri": "https://localhost:8080/",
          "height": 439
        }
      },
      "source": [
        "demanda"
      ],
      "execution_count": 31,
      "outputs": [
        {
          "output_type": "execute_result",
          "data": {
            "text/html": [
              "<div>\n",
              "<style scoped>\n",
              "    .dataframe tbody tr th:only-of-type {\n",
              "        vertical-align: middle;\n",
              "    }\n",
              "\n",
              "    .dataframe tbody tr th {\n",
              "        vertical-align: top;\n",
              "    }\n",
              "\n",
              "    .dataframe thead th {\n",
              "        text-align: right;\n",
              "    }\n",
              "</style>\n",
              "<table border=\"1\" class=\"dataframe\">\n",
              "  <thead>\n",
              "    <tr style=\"text-align: right;\">\n",
              "      <th></th>\n",
              "      <th>ROUBOS</th>\n",
              "      <th>ROUBOS1</th>\n",
              "      <th>ROUBOS2</th>\n",
              "      <th>ROUBOS3</th>\n",
              "      <th>ROUBOS4</th>\n",
              "      <th>ROUBOS5</th>\n",
              "      <th>ROUBOS6</th>\n",
              "      <th>ROUBOS7</th>\n",
              "      <th>ROUBOS8</th>\n",
              "      <th>ROUBOS9</th>\n",
              "      <th>ROUBOS10</th>\n",
              "      <th>ROUBOS11</th>\n",
              "      <th>ROUBOS12</th>\n",
              "      <th>ROUBOS13</th>\n",
              "      <th>ROUBOS14</th>\n",
              "      <th>ROUBOS15</th>\n",
              "      <th>ROUBOS16</th>\n",
              "      <th>ROUBOS17</th>\n",
              "      <th>ROUBOS18</th>\n",
              "      <th>ROUBOS19</th>\n",
              "      <th>ROUBOS20</th>\n",
              "    </tr>\n",
              "  </thead>\n",
              "  <tbody>\n",
              "    <tr>\n",
              "      <th>7242</th>\n",
              "      <td>15178</td>\n",
              "      <td>4125.0</td>\n",
              "      <td>4125.0</td>\n",
              "      <td>4125.0</td>\n",
              "      <td>4125.0</td>\n",
              "      <td>4125.0</td>\n",
              "      <td>4125.0</td>\n",
              "      <td>4125.0</td>\n",
              "      <td>4125.0</td>\n",
              "      <td>4125.0</td>\n",
              "      <td>4125.0</td>\n",
              "      <td>4125.0</td>\n",
              "      <td>4125.0</td>\n",
              "      <td>4125.0</td>\n",
              "      <td>4125.0</td>\n",
              "      <td>4125.0</td>\n",
              "      <td>4125.0</td>\n",
              "      <td>4125.0</td>\n",
              "      <td>4125.0</td>\n",
              "      <td>4125.0</td>\n",
              "      <td>4125.0</td>\n",
              "    </tr>\n",
              "    <tr>\n",
              "      <th>29</th>\n",
              "      <td>4125</td>\n",
              "      <td>4125.0</td>\n",
              "      <td>4125.0</td>\n",
              "      <td>4125.0</td>\n",
              "      <td>4125.0</td>\n",
              "      <td>4125.0</td>\n",
              "      <td>4125.0</td>\n",
              "      <td>4125.0</td>\n",
              "      <td>4125.0</td>\n",
              "      <td>4125.0</td>\n",
              "      <td>4125.0</td>\n",
              "      <td>4125.0</td>\n",
              "      <td>4125.0</td>\n",
              "      <td>4125.0</td>\n",
              "      <td>4125.0</td>\n",
              "      <td>4125.0</td>\n",
              "      <td>4125.0</td>\n",
              "      <td>4125.0</td>\n",
              "      <td>4125.0</td>\n",
              "      <td>4125.0</td>\n",
              "      <td>4125.0</td>\n",
              "    </tr>\n",
              "    <tr>\n",
              "      <th>25</th>\n",
              "      <td>4125</td>\n",
              "      <td>4125.0</td>\n",
              "      <td>4125.0</td>\n",
              "      <td>4125.0</td>\n",
              "      <td>4125.0</td>\n",
              "      <td>4125.0</td>\n",
              "      <td>4125.0</td>\n",
              "      <td>4125.0</td>\n",
              "      <td>4125.0</td>\n",
              "      <td>4125.0</td>\n",
              "      <td>4125.0</td>\n",
              "      <td>4125.0</td>\n",
              "      <td>4125.0</td>\n",
              "      <td>4125.0</td>\n",
              "      <td>4125.0</td>\n",
              "      <td>4125.0</td>\n",
              "      <td>4125.0</td>\n",
              "      <td>4125.0</td>\n",
              "      <td>4125.0</td>\n",
              "      <td>4125.0</td>\n",
              "      <td>4125.0</td>\n",
              "    </tr>\n",
              "    <tr>\n",
              "      <th>241</th>\n",
              "      <td>4125</td>\n",
              "      <td>4125.0</td>\n",
              "      <td>4125.0</td>\n",
              "      <td>4125.0</td>\n",
              "      <td>4125.0</td>\n",
              "      <td>4125.0</td>\n",
              "      <td>4125.0</td>\n",
              "      <td>4125.0</td>\n",
              "      <td>4125.0</td>\n",
              "      <td>4125.0</td>\n",
              "      <td>4125.0</td>\n",
              "      <td>4125.0</td>\n",
              "      <td>4125.0</td>\n",
              "      <td>4125.0</td>\n",
              "      <td>4125.0</td>\n",
              "      <td>4125.0</td>\n",
              "      <td>4125.0</td>\n",
              "      <td>4125.0</td>\n",
              "      <td>4125.0</td>\n",
              "      <td>4125.0</td>\n",
              "      <td>4125.0</td>\n",
              "    </tr>\n",
              "    <tr>\n",
              "      <th>242</th>\n",
              "      <td>4125</td>\n",
              "      <td>4125.0</td>\n",
              "      <td>4125.0</td>\n",
              "      <td>4125.0</td>\n",
              "      <td>4125.0</td>\n",
              "      <td>4125.0</td>\n",
              "      <td>4125.0</td>\n",
              "      <td>4125.0</td>\n",
              "      <td>4125.0</td>\n",
              "      <td>4125.0</td>\n",
              "      <td>4125.0</td>\n",
              "      <td>4125.0</td>\n",
              "      <td>4125.0</td>\n",
              "      <td>4125.0</td>\n",
              "      <td>4125.0</td>\n",
              "      <td>4125.0</td>\n",
              "      <td>4125.0</td>\n",
              "      <td>4125.0</td>\n",
              "      <td>4125.0</td>\n",
              "      <td>4125.0</td>\n",
              "      <td>4125.0</td>\n",
              "    </tr>\n",
              "    <tr>\n",
              "      <th>...</th>\n",
              "      <td>...</td>\n",
              "      <td>...</td>\n",
              "      <td>...</td>\n",
              "      <td>...</td>\n",
              "      <td>...</td>\n",
              "      <td>...</td>\n",
              "      <td>...</td>\n",
              "      <td>...</td>\n",
              "      <td>...</td>\n",
              "      <td>...</td>\n",
              "      <td>...</td>\n",
              "      <td>...</td>\n",
              "      <td>...</td>\n",
              "      <td>...</td>\n",
              "      <td>...</td>\n",
              "      <td>...</td>\n",
              "      <td>...</td>\n",
              "      <td>...</td>\n",
              "      <td>...</td>\n",
              "      <td>...</td>\n",
              "      <td>...</td>\n",
              "    </tr>\n",
              "    <tr>\n",
              "      <th>11205</th>\n",
              "      <td>8818</td>\n",
              "      <td>8818.0</td>\n",
              "      <td>15178.0</td>\n",
              "      <td>15178.0</td>\n",
              "      <td>15178.0</td>\n",
              "      <td>15178.0</td>\n",
              "      <td>15178.0</td>\n",
              "      <td>15178.0</td>\n",
              "      <td>15178.0</td>\n",
              "      <td>15178.0</td>\n",
              "      <td>15178.0</td>\n",
              "      <td>10462.0</td>\n",
              "      <td>10462.0</td>\n",
              "      <td>10462.0</td>\n",
              "      <td>9142.0</td>\n",
              "      <td>6852.0</td>\n",
              "      <td>15178.0</td>\n",
              "      <td>15178.0</td>\n",
              "      <td>15178.0</td>\n",
              "      <td>15178.0</td>\n",
              "      <td>15178.0</td>\n",
              "    </tr>\n",
              "    <tr>\n",
              "      <th>11220</th>\n",
              "      <td>8818</td>\n",
              "      <td>15178.0</td>\n",
              "      <td>15178.0</td>\n",
              "      <td>15178.0</td>\n",
              "      <td>15178.0</td>\n",
              "      <td>15178.0</td>\n",
              "      <td>15178.0</td>\n",
              "      <td>15178.0</td>\n",
              "      <td>15178.0</td>\n",
              "      <td>15178.0</td>\n",
              "      <td>10462.0</td>\n",
              "      <td>10462.0</td>\n",
              "      <td>10462.0</td>\n",
              "      <td>9142.0</td>\n",
              "      <td>6852.0</td>\n",
              "      <td>15178.0</td>\n",
              "      <td>15178.0</td>\n",
              "      <td>15178.0</td>\n",
              "      <td>15178.0</td>\n",
              "      <td>15178.0</td>\n",
              "      <td>15178.0</td>\n",
              "    </tr>\n",
              "    <tr>\n",
              "      <th>11219</th>\n",
              "      <td>15178</td>\n",
              "      <td>15178.0</td>\n",
              "      <td>15178.0</td>\n",
              "      <td>15178.0</td>\n",
              "      <td>15178.0</td>\n",
              "      <td>15178.0</td>\n",
              "      <td>15178.0</td>\n",
              "      <td>15178.0</td>\n",
              "      <td>15178.0</td>\n",
              "      <td>10462.0</td>\n",
              "      <td>10462.0</td>\n",
              "      <td>10462.0</td>\n",
              "      <td>9142.0</td>\n",
              "      <td>6852.0</td>\n",
              "      <td>15178.0</td>\n",
              "      <td>15178.0</td>\n",
              "      <td>15178.0</td>\n",
              "      <td>15178.0</td>\n",
              "      <td>15178.0</td>\n",
              "      <td>15178.0</td>\n",
              "      <td>15178.0</td>\n",
              "    </tr>\n",
              "    <tr>\n",
              "      <th>11232</th>\n",
              "      <td>15178</td>\n",
              "      <td>15178.0</td>\n",
              "      <td>15178.0</td>\n",
              "      <td>15178.0</td>\n",
              "      <td>15178.0</td>\n",
              "      <td>15178.0</td>\n",
              "      <td>15178.0</td>\n",
              "      <td>15178.0</td>\n",
              "      <td>10462.0</td>\n",
              "      <td>10462.0</td>\n",
              "      <td>10462.0</td>\n",
              "      <td>9142.0</td>\n",
              "      <td>6852.0</td>\n",
              "      <td>15178.0</td>\n",
              "      <td>15178.0</td>\n",
              "      <td>15178.0</td>\n",
              "      <td>15178.0</td>\n",
              "      <td>15178.0</td>\n",
              "      <td>15178.0</td>\n",
              "      <td>15178.0</td>\n",
              "      <td>15178.0</td>\n",
              "    </tr>\n",
              "    <tr>\n",
              "      <th>11253</th>\n",
              "      <td>15178</td>\n",
              "      <td>15178.0</td>\n",
              "      <td>15178.0</td>\n",
              "      <td>15178.0</td>\n",
              "      <td>15178.0</td>\n",
              "      <td>15178.0</td>\n",
              "      <td>15178.0</td>\n",
              "      <td>10462.0</td>\n",
              "      <td>10462.0</td>\n",
              "      <td>10462.0</td>\n",
              "      <td>9142.0</td>\n",
              "      <td>6852.0</td>\n",
              "      <td>15178.0</td>\n",
              "      <td>15178.0</td>\n",
              "      <td>15178.0</td>\n",
              "      <td>15178.0</td>\n",
              "      <td>15178.0</td>\n",
              "      <td>15178.0</td>\n",
              "      <td>15178.0</td>\n",
              "      <td>15178.0</td>\n",
              "      <td>15178.0</td>\n",
              "    </tr>\n",
              "  </tbody>\n",
              "</table>\n",
              "<p>120534 rows × 21 columns</p>\n",
              "</div>"
            ],
            "text/plain": [
              "       ROUBOS  ROUBOS1  ROUBOS2  ...  ROUBOS18  ROUBOS19  ROUBOS20\n",
              "7242    15178   4125.0   4125.0  ...    4125.0    4125.0    4125.0\n",
              "29       4125   4125.0   4125.0  ...    4125.0    4125.0    4125.0\n",
              "25       4125   4125.0   4125.0  ...    4125.0    4125.0    4125.0\n",
              "241      4125   4125.0   4125.0  ...    4125.0    4125.0    4125.0\n",
              "242      4125   4125.0   4125.0  ...    4125.0    4125.0    4125.0\n",
              "...       ...      ...      ...  ...       ...       ...       ...\n",
              "11205    8818   8818.0  15178.0  ...   15178.0   15178.0   15178.0\n",
              "11220    8818  15178.0  15178.0  ...   15178.0   15178.0   15178.0\n",
              "11219   15178  15178.0  15178.0  ...   15178.0   15178.0   15178.0\n",
              "11232   15178  15178.0  15178.0  ...   15178.0   15178.0   15178.0\n",
              "11253   15178  15178.0  15178.0  ...   15178.0   15178.0   15178.0\n",
              "\n",
              "[120534 rows x 21 columns]"
            ]
          },
          "metadata": {
            "tags": []
          },
          "execution_count": 31
        }
      ]
    },
    {
      "cell_type": "code",
      "metadata": {
        "id": "8sZgX6Lt_d9L",
        "colab_type": "code",
        "colab": {}
      },
      "source": [
        "y = demanda.iloc[:, 1:].values\n",
        "y = np.reshape(y, (y.shape[0], n_steps, 1))"
      ],
      "execution_count": 0,
      "outputs": []
    },
    {
      "cell_type": "code",
      "metadata": {
        "id": "sRxobxAy_wl4",
        "colab_type": "code",
        "outputId": "ba1644f5-e9e5-40a2-b92f-ceb9fb937e46",
        "colab": {
          "base_uri": "https://localhost:8080/",
          "height": 34
        }
      },
      "source": [
        "X.shape, y.shape"
      ],
      "execution_count": 33,
      "outputs": [
        {
          "output_type": "execute_result",
          "data": {
            "text/plain": [
              "((120534, 20, 1), (120534, 20, 1))"
            ]
          },
          "metadata": {
            "tags": []
          },
          "execution_count": 33
        }
      ]
    },
    {
      "cell_type": "code",
      "metadata": {
        "id": "sNhCs2Sc_02X",
        "colab_type": "code",
        "colab": {}
      },
      "source": [
        "n_test = 500\n",
        "\n",
        "X_train, X_test = X[:-n_test, :, :], X[-n_test:, :, :]\n",
        "y_train, y_test = y[:-n_test, :, :], y[-n_test:, :, :]"
      ],
      "execution_count": 0,
      "outputs": []
    },
    {
      "cell_type": "code",
      "metadata": {
        "id": "Ch9w9QlyAMHr",
        "colab_type": "code",
        "colab": {}
      },
      "source": [
        "shuffle_mask = np.arange(0, X_train.shape[0]) # cria array de 0 até n_train\n",
        "np.random.shuffle(shuffle_mask) # embaralha o array acima\n",
        "\n",
        "X_train = X_train[shuffle_mask]\n",
        "y_train = y_train[shuffle_mask]"
      ],
      "execution_count": 0,
      "outputs": []
    },
    {
      "cell_type": "code",
      "metadata": {
        "id": "-OGMbm_XAp8q",
        "colab_type": "code",
        "colab": {}
      },
      "source": [
        "n_inputs = 1 # variáveis de entrada\n",
        "n_neurons = 64 # neurônios da camada recursiva\n",
        "n_outputs = 1 # variáveis de entrada\n",
        "learning_rate = 0.001 # taxa de aprendizado\n",
        "\n",
        "graph = tf.Graph()\n",
        "with graph.as_default():\n",
        "\n",
        "    # placeholders\n",
        "    tf_X = tf.placeholder(tf.float32, [None, n_steps, n_inputs], name='X')\n",
        "    tf_y = tf.placeholder(tf.float32, [None, n_steps, n_outputs], name='y')\n",
        "    \n",
        "    with tf.name_scope('Recurent_Layer'):\n",
        "        cell = BasicRNNCell(num_units=n_neurons, activation=tf.nn.elu)\n",
        "        outputs, last_state = tf.nn.dynamic_rnn(cell, tf_X, dtype=tf.float32)\n",
        "             \n",
        "    with tf.name_scope('out_layer'):\n",
        "        stacked_outputs = tf.reshape(outputs, [-1, n_neurons])\n",
        "        stacked_outputs = tf.layers.dense(stacked_outputs, n_outputs, activation=None)\n",
        "        net_outputs = tf.reshape(stacked_outputs, [-1, n_steps, n_outputs])\n",
        "    \n",
        "    with tf.name_scope('train'):\n",
        "        loss = tf.reduce_mean(tf.abs(net_outputs - tf_y)) # MAE\n",
        "        optimizer = tf.train.AdamOptimizer(learning_rate=learning_rate).minimize(loss)\n",
        "\n",
        "    init = tf.global_variables_initializer()\n"
      ],
      "execution_count": 0,
      "outputs": []
    },
    {
      "cell_type": "code",
      "metadata": {
        "id": "Fjf3s-4TBo6m",
        "colab_type": "code",
        "outputId": "c1e85b60-dd43-4c6c-dc48-9d50057f8c44",
        "colab": {
          "base_uri": "https://localhost:8080/",
          "height": 136
        }
      },
      "source": [
        "n_iterations = 10000\n",
        "batch_size = 64\n",
        "\n",
        "with tf.Session(graph=graph) as sess:\n",
        "    init.run()\n",
        "    \n",
        "    for step in range(n_iterations+1):\n",
        "        # cria os mini-lotes\n",
        "        offset = (step * batch_size) % (y_train.shape[0] - batch_size)\n",
        "        X_batch = X_train[offset:(offset + batch_size), :]\n",
        "        y_batch = y_train[offset:(offset + batch_size)]\n",
        "        \n",
        "        # roda uma iteração de treino\n",
        "        sess.run(optimizer, feed_dict={tf_X: X_batch, tf_y: y_batch})\n",
        "    \n",
        "        # mostra o MAE de treito a cada 2000 iterações\n",
        "        if step % 2000 == 0:\n",
        "            train_mae = loss.eval(feed_dict={tf_X: X_train, tf_y: y_train})\n",
        "            print(step, \"\\tTrain MAE:\", train_mae)\n",
        "    \n",
        "    # mostra o MAE de teste no final do treinamento\n",
        "    test_mae = loss.eval(feed_dict={tf_X: X_test, tf_y: y_test})\n",
        "    print(step, \"\\tTest MAE:\", test_mae)\n",
        "\n",
        "    # realiza previsões\n",
        "    y_pred = sess.run(net_outputs, feed_dict={tf_X: X_test})\n"
      ],
      "execution_count": 37,
      "outputs": [
        {
          "output_type": "stream",
          "text": [
            "0 \tTrain MAE: 7257.559\n",
            "2000 \tTrain MAE: 172.1712\n",
            "4000 \tTrain MAE: 156.51944\n",
            "6000 \tTrain MAE: 154.02802\n",
            "8000 \tTrain MAE: 157.67073\n",
            "10000 \tTrain MAE: 162.0712\n",
            "10000 \tTest MAE: 147.26294\n"
          ],
          "name": "stdout"
        }
      ]
    },
    {
      "cell_type": "code",
      "metadata": {
        "id": "wx_roCB8B8Ty",
        "colab_type": "code",
        "colab": {}
      },
      "source": [
        "from sklearn.metrics import r2_score"
      ],
      "execution_count": 0,
      "outputs": []
    },
    {
      "cell_type": "code",
      "metadata": {
        "id": "WkLjZnkKCNef",
        "colab_type": "code",
        "outputId": "4ac29f97-1731-46f3-e0fd-2f1520b9a169",
        "colab": {
          "base_uri": "https://localhost:8080/",
          "height": 34
        }
      },
      "source": [
        "r2_score(y_pred=y_pred.reshape(-1, 1), y_true=y_test.reshape(-1, 1))"
      ],
      "execution_count": 39,
      "outputs": [
        {
          "output_type": "execute_result",
          "data": {
            "text/plain": [
              "0.9243768496160252"
            ]
          },
          "metadata": {
            "tags": []
          },
          "execution_count": 39
        }
      ]
    },
    {
      "cell_type": "code",
      "metadata": {
        "id": "-5CXECA1CZDv",
        "colab_type": "code",
        "colab": {}
      },
      "source": [
        ""
      ],
      "execution_count": 0,
      "outputs": []
    }
  ]
}